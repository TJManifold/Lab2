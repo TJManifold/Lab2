{
 "cells": [
  {
   "cell_type": "markdown",
   "metadata": {},
   "source": [
    "# Lecture 3 and Lab Ideas\n",
    "\n",
    "## Topics we still need to cover\n",
    " - API for USDA data\n",
    " - API for weather data\n",
    " - Mapping\n",
    " \n",
    "For more detail on python please see the Purdue DataMine web link: <a href=\"https://thedatamine.github.io/the-examples-book/python.html\" target=\"_blank\">Data Mine on Python</a>\n",
    "\n",
    "Also see: <a href=\"https://docs.python.org/3/\" target=\"_blank\">Python 3.9.1 Documentation</a>"
   ]
  },
  {
   "cell_type": "code",
   "execution_count": 1,
   "metadata": {},
   "outputs": [
    {
     "name": "stdout",
     "output_type": "stream",
     "text": [
      "Current working directory: /Users/jvk/Documents/Teaching/2020-HEC\n",
      "Current working directory: /Users/jvk/Documents/Teaching/2020-HEC/Data3\n"
     ]
    }
   ],
   "source": [
    "# Bring in the packages we have used before.\n",
    "\n",
    "import math\n",
    "import numpy as np\n",
    "import matplotlib as mpl\n",
    "import matplotlib.pyplot as plt\n",
    "import os\n",
    "\n",
    "# Uses python's string format method.\n",
    "print(\"Current working directory: {0}\".format(os.getcwd()))\n",
    "\n",
    "# Change the current working directory\n",
    "os.chdir('Data3')\n",
    "\n",
    "# Print the current working directory\n",
    "print(\"Current working directory: {0}\".format(os.getcwd()))"
   ]
  },
  {
   "cell_type": "markdown",
   "metadata": {},
   "source": [
    "## Simple Mapping?"
   ]
  },
  {
   "cell_type": "code",
   "execution_count": 2,
   "metadata": {},
   "outputs": [
    {
     "name": "stdout",
     "output_type": "stream",
     "text": [
      "Geo Point;Geo Shape;GNIS ID;ANSICODE;FEATURE;FEATURE2;NAME;POP 2010;COUNTY;COUNTY FIPS;STATE;STATE FIPS;LATITUDE;LONGITUDE;PopPlLat;PopPlLong;ELEV IN M;ELEV IN FT\n",
      "\n",
      "18\n",
      "['Geo Point', 'Geo Shape', 'GNIS ID', 'ANSICODE', 'FEATURE', 'FEATURE2', 'NAME', 'POP 2010', 'COUNTY', 'COUNTY FIPS', 'STATE', 'STATE FIPS', 'LATITUDE', 'LONGITUDE', 'PopPlLat', 'PopPlLong', 'ELEV IN M', 'ELEV IN FT\\n']\n",
      "\n",
      "18\n",
      "['44.2998540717,-120.834480347', '\"{\"\"type\"\": \"\"Point\"\", \"\"coordinates\"\": [-120.83448034701922, 44.299854071684514]}\"', '1154317', '2411494', 'Civil', 'County Seat', 'Prineville', '9253', 'Crook', '013', 'OR', '41', '44.2998485', '-120.8344664', '44.2998485', '-120.8344664', '878', '2881\\n']\n",
      "\n",
      "18\n",
      "['41.7354923486,-111.834399861', '\"{\"\"type\"\": \"\"Point\"\", \"\"coordinates\"\": [-111.83439986101921, 41.73549234864257]}\"', '1442849', '2410856', 'Civil', 'County Seat', 'Logan', '48174', 'Cache', '005', 'UT', '49', '41.7354862', '-111.834388', '41.7354862', '-111.834388', '1382', '4534\\n']\n",
      "\n",
      "18\n",
      "['39.3688793269,-107.032834728', '\"{\"\"type\"\": \"\"Point\"\", \"\"coordinates\"\": [-107.03283472816561, 39.36887932690348]}\"', '175038', '2411665', 'Civil', '-999', 'Basalt', '3857', 'Eagle', '037', 'CO', '08', '39.3688731', '-107.0328242', '39.3688731', '-107.0328242', '2015', '6611\\n']\n",
      "\n",
      "18\n",
      "['39.5249674187,-111.590484016', '\"{\"\"type\"\": \"\"Point\"\", \"\"coordinates\"\": [-111.59048401567614, 39.524967418674294]}\"', '1430498', '2411167', 'Civil', '-999', 'Moroni', '1423', 'Sanpete', '039', 'UT', '49', '39.5249615', '-111.5904725', '39.5249615', '-111.5904725', '1686', '5531\\n']\n",
      "\n",
      "18\n",
      "['39.6133273999,-105.0166599', '\"{\"\"type\"\": \"\"Point\"\", \"\"coordinates\"\": [-105.01665990019411, 39.61332739990315]}\"', '169446', '2410845', 'Civil', 'County Seat', 'Littleton', '41737', 'Arapahoe', '005', 'CO', '08', '39.613321', '-105.0166498', '39.613321', '-105.0166498', '1631', '5351\\n']\n",
      "\n",
      "18\n",
      "['38.9688581999,-112.323560295', '\"{\"\"type\"\": \"\"Point\"\", \"\"coordinates\"\": [-112.32356029475785, 38.96885819988635]}\"', '1441039', '2410505', 'Civil', 'County Seat', 'Fillmore', '2435', 'Millard', '027', 'UT', '49', '38.9688524', '-112.3235487', '38.9688524', '-112.3235487', '1565', '5134\\n']\n",
      "\n",
      "18\n",
      "['37.9060417454,-122.544989549', '\"{\"\"type\"\": \"\"Point\"\", \"\"coordinates\"\": [-122.54498954934402, 37.906041745400174]}\"', '1659128', '2411109', 'Civil', '-999', 'Mill Valley', '13903', 'Marin', '041', 'CA', '06', '37.9060368', '-122.5449763', '37.9060368', '-122.5449763', '25', '82\\n']\n",
      "\n",
      "18\n",
      "['38.0171490739,-122.288594024', '\"{\"\"type\"\": \"\"Point\"\", \"\"coordinates\"\": [-122.28859402420632, 38.017149073946065]}\"', '1658738', '2410746', 'Civil', '-999', 'Hercules', '24060', 'Contra Costa', '013', 'CA', '06', '38.0171441', '-122.2885808', '38.0171441', '-122.2885808', '24', '79\\n']\n",
      "\n",
      "18\n",
      "['37.3021683419,-120.482980564', '\"{\"\"type\"\": \"\"Point\"\", \"\"coordinates\"\": [-120.48298056363751, 37.302168341858824]}\"', '1659751', '2411080', 'Civil', 'County Seat', 'Merced', '78958', 'Merced', '047', 'CA', '06', '37.3021633', '-120.4829677', '37.3021633', '-120.4829677', '52', '171\\n']\n",
      "\n",
      "18\n",
      "['36.8588426031,-120.456020011', '\"{\"\"type\"\": \"\"Point\"\", \"\"coordinates\"\": [-120.45602001092021, 36.85884260311738]}\"', '277514', '2410507', 'Civil', '-999', 'Firebaugh', '7549', 'Fresno', '019', 'CA', '06', '36.8588376', '-120.4560072', '36.8588376', '-120.4560072', '46', '151\\n']\n",
      "\n",
      "18\n",
      "['36.7045989105,-95.6618246986', '\"{\"\"type\"\": \"\"Point\"\", \"\"coordinates\"\": [-95.6618246985681, 36.70459891045125]}\"', '1096069', '2411285', 'Civil', 'County Seat', 'Nowata', '3731', 'Nowata', '105', 'OK', '40', '36.7045924', '-95.66181719', '36.700645', '-95.6380341', '216', '709\\n']\n",
      "\n",
      "18\n",
      "['35.6224611616,-117.670908828', '\"{\"\"type\"\": \"\"Point\"\", \"\"coordinates\"\": [-117.67090882786816, 35.622461161578585]}\"', '1652783', '2410944', 'Civil', '-999', 'Ridgecrest', '27616', 'Kern', '029', 'CA', '06', '35.6224561', '-117.6708966', '35.6224561', '-117.6708966', '698', '2290\\n']\n",
      "\n",
      "18\n",
      "['35.2597803281,-101.950476863', '\"{\"\"type\"\": \"\"Point\"\", \"\"coordinates\"\": [-101.95047686281514, 35.25978032809662]}\"', '1802734', '2411693', 'Civil', '-999', 'Bishop Hills', '193', 'Potter', '375', 'TX', '48', '35.2597744', '-101.9504679', '35.2597744', '-101.9504679', '1063', '3487\\n']\n",
      "\n",
      "18\n",
      "['34.6126387997,-98.4141216406', '\"{\"\"type\"\": \"\"Point\"\", \"\"coordinates\"\": [-98.41412164061016, 34.61263879965738]}\"', '1094539', '2411638', 'Civil', 'County Seat', 'Lawton', '96867', 'Comanche', '031', 'OK', '40', '34.6126328', '-98.41411359', '34.6086854', '-98.3903305', '339', '1112\\n']\n",
      "\n",
      "18\n",
      "['34.1991766755,-118.187862889', '\"{\"\"type\"\": \"\"Point\"\", \"\"coordinates\"\": [-118.1878628894607, 34.19917667550815]}\"', '1660845', '2411565', 'Civil', '-999', 'La CaÃ±ada Flintridge', '20246', 'Los Angeles', '037', 'CA', '06', '34.1991718', '-118.1878507', '34.1991718', '-118.1878507', '362', '1188\\n']\n",
      "\n",
      "18\n",
      "['33.6130993263,-112.32461528', '\"{\"\"type\"\": \"\"Point\"\", \"\"coordinates\"\": [-112.32461527982079, 33.61309932625894]}\"', '4381', '2410412', 'Civil', '-999', 'El Mirage', '31797', 'Maricopa', '013', 'AZ', '04', '33.6130942', '-112.3246042', '33.6130942', '-112.3246042', '349', '1145\\n']\n",
      "\n",
      "18\n",
      "['33.6609448586,-95.5555202615', '\"{\"\"type\"\": \"\"Point\"\", \"\"coordinates\"\": [-95.55552026153137, 33.66094485861234]}\"', '1364810', '2411371', 'Civil', 'County Seat', 'Paris', '25171', 'Lamar', '277', 'TX', '48', '33.6609389', '-95.555513', '33.6609389', '-95.555513', '183', '600\\n']\n",
      "\n",
      "18\n",
      "['32.4373487948,-103.159088846', '\"{\"\"type\"\": \"\"Point\"\", \"\"coordinates\"\": [-103.15908884568753, 32.437348794811435]}\"', '899630', '2410462', 'Civil', '-999', 'Eunice', '2922', 'Lea', '025', 'NM', '35', '32.4373434', '-103.1590798', '32.4373434', '-103.1590798', '1051', '3448\\n']\n",
      "\n",
      "18\n",
      "['33.0534620595,-97.471973912', '\"{\"\"type\"\": \"\"Point\"\", \"\"coordinates\"\": [-97.47197391200822, 33.0534620594626]}\"', '1345152', '2410930', 'Civil', '-999', 'Rhome', '1522', 'Wise', '497', 'TX', '48', '33.0534563', '-97.4719662', '33.0534563', '-97.4719662', '287', '942\\n']\n",
      "\n",
      "18\n",
      "['32.7668012432,-96.5991667737', '\"{\"\"type\"\": \"\"Point\"\", \"\"coordinates\"\": [-96.59916677367492, 32.766801243242476]}\"', '1341400', '2411090', 'Civil', '-999', 'Mesquite', '139824', 'Dallas', '113', 'TX', '48', '32.7667955', '-96.5991593', '32.7667955', '-96.5991593', '151', '495\\n']\n",
      "\n"
     ]
    }
   ],
   "source": [
    "my_file_name = 'cities-and-towns-of-the-united-states.csv'\n",
    "my_new_file_name = 'Wrangled-' + my_file_name\n",
    "\n",
    "# Open the file.\n",
    "\n",
    "fin = open(my_file_name, \"r\")\n",
    "line = fin.readline() #Read first line\n",
    "\n",
    "print(line)\n",
    "fields = line.split(';')\n",
    "print(len(fields))\n",
    "print(fields)\n",
    "print()\n",
    "\n",
    "for i in range(20):\n",
    "    line = fin.readline()\n",
    "    fields = line.split(';')\n",
    "    print(len(fields))\n",
    "    print(fields)\n",
    "    print()\n",
    "\n",
    "fin.close()"
   ]
  },
  {
   "cell_type": "code",
   "execution_count": 3,
   "metadata": {},
   "outputs": [],
   "source": [
    "fin = open(my_file_name, \"r\")\n",
    "\n",
    "# This creates the file and, if aleady exists, erases any \n",
    "# old content\n",
    "fout = open(my_new_file_name, \"w\")\n",
    "fout.close() \n",
    "\n",
    "# Read the first line containing header and split the line \n",
    "# string into fields on the comma separator. This returns a \n",
    "# list where each list element is one of comma delimited \n",
    "# strings. For the .csv files here there will be 21 \n",
    "# substrings in each line. They are numbered from 0 to 20. \n",
    "# We want to retain numbers\n",
    "# 4 ('FEATURE'), 5 ('FEATURE2'), 6 ('NAME'), 8 ('COUNTY'), \n",
    "# 9 ('COUNTY FIPS'), 10 ('STATE'), 11 ('STATE FIPS'), \n",
    "# 12 ('LATITUDE'), 13('LONGITUDE')\n",
    "#\n",
    "# The code below creates the header for the new csv file\n",
    "\n",
    "line = fin.readline()\n",
    "fin.close()\n",
    "\n",
    "fields = line.split(';')\n",
    "newline = fields[4] + ',' + fields[5] + ',' + fields[6] + ','\n",
    "newline = newline + fields[8] + ',' + fields[9] + ','\n",
    "newline = newline + fields[10] + ',' +fields[11] + ','\n",
    "newline = newline + fields[12] + ',' +fields[13]\n",
    "\n",
    "fout = open(my_new_file_name, \"a\")\n",
    "print(newline, file=fout)\n",
    "fout.close() \n",
    "\n",
    "# Now I want to go through the input csv line by line deleting \n",
    "# the superfluous fields and appending the new lines to the \n",
    "# \"wrangled\" file.\n",
    "\n",
    "fin = open(my_file_name, \"r\")\n",
    "fin.readline() # Read the header line and move to 2nd line\n",
    "\n",
    "f = set()\n",
    "f2 = set()\n",
    "state = set()\n",
    "\n",
    "fout = open(my_new_file_name, \"a\")\n",
    "\n",
    "for line in fin:\n",
    "    fields = line.split(';')\n",
    "    newline = fields[4] + ',' + fields[5] + ',' + fields[6] + ','\n",
    "    newline = newline + fields[8] + ',' + fields[9] + ','\n",
    "    newline = newline + fields[10] + ',' +fields[11] + ','\n",
    "    newline = newline + fields[12] + ',' +fields[13]    \n",
    "    print(newline, file=fout)\n",
    "    f.add(fields[4])\n",
    "    f2.add(fields[5])\n",
    "    state.add(fields[10])\n",
    "\n",
    "fin.close()\n",
    "fout.close()"
   ]
  },
  {
   "cell_type": "code",
   "execution_count": 4,
   "metadata": {},
   "outputs": [
    {
     "data": {
      "text/plain": [
       "{'Census', 'Civil', 'Locale', 'Place', 'Populated Place'}"
      ]
     },
     "execution_count": 4,
     "metadata": {},
     "output_type": "execute_result"
    }
   ],
   "source": [
    "f"
   ]
  },
  {
   "cell_type": "code",
   "execution_count": 5,
   "metadata": {},
   "outputs": [
    {
     "data": {
      "text/plain": [
       "{'-999',\n",
       " 'County Seat',\n",
       " 'National Capital',\n",
       " 'State Capital',\n",
       " 'State Capital County Seat'}"
      ]
     },
     "execution_count": 5,
     "metadata": {},
     "output_type": "execute_result"
    }
   ],
   "source": [
    "f2"
   ]
  },
  {
   "cell_type": "code",
   "execution_count": 6,
   "metadata": {},
   "outputs": [
    {
     "name": "stdout",
     "output_type": "stream",
     "text": [
      "{'PR', 'WI', 'FL', 'GA', 'ME', 'KS', 'CA', 'SC', 'DE', 'IA', 'DC', 'MO', 'WY', 'MS', 'RI', 'KY', 'TX', 'MD', 'WA', 'AR', 'AL', 'OH', 'NE', 'MI', 'NC', 'NM', 'CT', 'MT', 'IN', 'PA', 'OK', 'NH', 'MN', 'NV', 'NJ', 'HI', 'UT', 'ID', 'IL', 'TN', 'VI', 'NY', 'ND', 'MA', 'SD', 'WV', 'AZ', 'VA', 'LA', 'CO', 'AK', 'OR', 'VT'}\n"
     ]
    }
   ],
   "source": [
    "print(state)"
   ]
  },
  {
   "cell_type": "code",
   "execution_count": 7,
   "metadata": {},
   "outputs": [],
   "source": [
    "fin = open(my_new_file_name, \"r\")\n",
    "fin.readline() # Read the header line and move to 2nd line\n",
    "k = 0\n",
    "\n",
    "for line in fin:\n",
    "    fields = line.split(',')\n",
    "    T1 = fields[1] == 'State Capital County Seat'\n",
    "    T2 = fields[1] == 'County Seat'\n",
    "    if T1 or T2:\n",
    "        k = k + 1\n",
    "        \n",
    "fin.close()\n",
    "\n",
    "fin = open(my_new_file_name, \"r\")\n",
    "fin.readline() # Read the header line and move to 2nd line\n",
    "        \n",
    "x = np.zeros(k)\n",
    "y = np.zeros(k)\n",
    "\n",
    "l = 0\n",
    "for line in fin:\n",
    "    fields = line.split(',')\n",
    "    T1 = fields[1] == 'State Capital County Seat'\n",
    "    T2 = fields[1] == 'County Seat'\n",
    "    if T1 or T2:\n",
    "        x[l] = float(fields[8])\n",
    "        y[l] = float(fields[7])\n",
    "        l = l + 1\n",
    "\n",
    "fin.close()\n"
   ]
  },
  {
   "cell_type": "code",
   "execution_count": 8,
   "metadata": {},
   "outputs": [
    {
     "name": "stdout",
     "output_type": "stream",
     "text": [
      "[-120.8344664  -111.834388   -105.0166498  ... -103.5993477   -95.31316132\n",
      "  -72.4475994 ]\n",
      "[44.2998485 41.7354862 39.613321  ... 31.7051291 36.3008558 43.989788 ]\n"
     ]
    }
   ],
   "source": [
    "print(x)\n",
    "print(y)\n"
   ]
  },
  {
   "cell_type": "code",
   "execution_count": 9,
   "metadata": {},
   "outputs": [
    {
     "data": {
      "image/png": "[encoded data removed]",
      "text/plain": [
       "<Figure size 432x288 with 1 Axes>"
      ]
     },
     "metadata": {
      "needs_background": "light"
     },
     "output_type": "display_data"
    }
   ],
   "source": [
    "fig = plt.figure()\n",
    "plt.style.use('classic')\n",
    "plt.plot(x, y, '.')\n",
    "plt.title(\"Example Plot\")\n",
    "plt.xlabel(\"x\")\n",
    "plt.ylabel(\"y\")\n",
    "plt.grid()"
   ]
  },
  {
   "cell_type": "code",
   "execution_count": null,
   "metadata": {},
   "outputs": [],
   "source": []
  },
  {
   "cell_type": "markdown",
   "metadata": {},
   "source": [
    "### Playing with an API"
   ]
  },
  {
   "cell_type": "code",
   "execution_count": 11,
   "metadata": {},
   "outputs": [
    {
     "ename": "ModuleNotFoundError",
     "evalue": "No module named 'requests'",
     "output_type": "error",
     "traceback": [
      "\u001b[0;31m---------------------------------------------------------------------------\u001b[0m",
      "\u001b[0;31mModuleNotFoundError\u001b[0m                       Traceback (most recent call last)",
      "\u001b[0;32m<ipython-input-11-95039fbd75c1>\u001b[0m in \u001b[0;36m<module>\u001b[0;34m\u001b[0m\n\u001b[0;32m----> 1\u001b[0;31m \u001b[0;32mimport\u001b[0m \u001b[0mrequests\u001b[0m\u001b[0;34m\u001b[0m\u001b[0;34m\u001b[0m\u001b[0m\n\u001b[0m",
      "\u001b[0;31mModuleNotFoundError\u001b[0m: No module named 'requests'"
     ]
    }
   ],
   "source": [
    "import requests"
   ]
  },
  {
   "cell_type": "code",
   "execution_count": 10,
   "metadata": {},
   "outputs": [
    {
     "ename": "ModuleNotFoundError",
     "evalue": "No module named 'requests'",
     "output_type": "error",
     "traceback": [
      "\u001b[0;31m---------------------------------------------------------------------------\u001b[0m",
      "\u001b[0;31mModuleNotFoundError\u001b[0m                       Traceback (most recent call last)",
      "\u001b[0;32m<ipython-input-10-7acf37bbb207>\u001b[0m in \u001b[0;36m<module>\u001b[0;34m\u001b[0m\n\u001b[0;32m----> 1\u001b[0;31m \u001b[0;32mimport\u001b[0m \u001b[0mrequests\u001b[0m\u001b[0;34m\u001b[0m\u001b[0;34m\u001b[0m\u001b[0m\n\u001b[0m\u001b[1;32m      2\u001b[0m \u001b[0mresponse\u001b[0m \u001b[0;34m=\u001b[0m \u001b[0mrequests\u001b[0m\u001b[0;34m.\u001b[0m\u001b[0mget\u001b[0m\u001b[0;34m(\u001b[0m\u001b[0;34m\"https://api.thedogapi.com/\"\u001b[0m\u001b[0;34m)\u001b[0m\u001b[0;34m\u001b[0m\u001b[0;34m\u001b[0m\u001b[0m\n\u001b[1;32m      3\u001b[0m \u001b[0mresponse\u001b[0m\u001b[0;34m.\u001b[0m\u001b[0mtext\u001b[0m\u001b[0;34m\u001b[0m\u001b[0;34m\u001b[0m\u001b[0m\n",
      "\u001b[0;31mModuleNotFoundError\u001b[0m: No module named 'requests'"
     ]
    }
   ],
   "source": [
    "\n",
    "response = requests.get(\"https://api.thedogapi.com/\")\n",
    "response.text"
   ]
  },
  {
   "cell_type": "code",
   "execution_count": null,
   "metadata": {},
   "outputs": [],
   "source": []
  },
  {
   "cell_type": "code",
   "execution_count": null,
   "metadata": {},
   "outputs": [],
   "source": []
  },
  {
   "cell_type": "code",
   "execution_count": null,
   "metadata": {},
   "outputs": [],
   "source": []
  },
  {
   "cell_type": "code",
   "execution_count": null,
   "metadata": {},
   "outputs": [],
   "source": [
    "yd = yd.replace('\\n', '')"
   ]
  },
  {
   "cell_type": "code",
   "execution_count": null,
   "metadata": {},
   "outputs": [],
   "source": [
    "my_file_name = 'Wrangled-WheatYields.csv'\n",
    "\n",
    "# Open the wrangled file.\n",
    "\n",
    "fin = open(my_file_name, \"r\")\n",
    "line = fin.readline() #Read first line to move past header \n",
    "\n",
    "# Initialize some empty sets.\n",
    "years = set()\n",
    "state_county_pairs = set()\n",
    "\n",
    "# The year values are located in the first column (index = 0)\n",
    "# The state values are in the second column (index = 1)\n",
    "# The county values are in the fourth column (index = 3)\n",
    "for line in fin:\n",
    "    fields = line.split(',')\n",
    "    yr = fields[0].replace('\"', '')\n",
    "    years.add(yr)\n",
    "    s = fields[1].replace('\"', '')\n",
    "    c = fields[3].replace('\"', '')\n",
    "    state_county_pairs.add(s + '-' + c)\n",
    "                      \n",
    "fin.close()\n",
    "\n",
    "# Convert to lists\n",
    "years = list(years)\n",
    "state_county_pairs = list(state_county_pairs)\n",
    "\n",
    "# The variable \"isdata\" is initialized with zeros. When a one appears\n",
    "# at a particular row and column it indicates that the corresponding\n",
    "# state-county pair and year has yield data.\n",
    "isdata = np.zeros((len(state_county_pairs), len(years)))\n",
    "\n",
    "# The variable \"ydata\" is also initialized with zeros.\n",
    "ydata = np.zeros((len(state_county_pairs), len(years)))\n",
    "\n",
    "# Sort the years and state_county_pairs lists. This is done so that we\n",
    "# can refer to the data in the numpy array and have the order there\n",
    "# correspond to the state-county pair and year of interest.\n",
    "years.sort()\n",
    "state_county_pairs.sort()"
   ]
  },
  {
   "cell_type": "markdown",
   "metadata": {},
   "source": [
    "## Populating data into `isdata` and `ydata`\n",
    "The next cell reads data from the `Wrangled-WheatYields.csv` file and populates the numpy arrays `isdata` and `ydata`. Remember these two arrays were initialized as all zeros.\n",
    "\n",
    "Below we will use the `index()` method, which returns the numeric index of the first occurrence of an item in a list. We made our `state_county_pairs` and `years` lists to have unique items."
   ]
  },
  {
   "cell_type": "code",
   "execution_count": null,
   "metadata": {},
   "outputs": [],
   "source": [
    "# Open the wrangled file.\n",
    "\n",
    "fin = open(my_file_name, \"r\")\n",
    "line = fin.readline() #Read first line to move past header \n",
    "\n",
    "# The year values are located in the first column (index = 0)\n",
    "# The state values in the second column (index = 1). County\n",
    "# values in the fourth column (index = 3). County average yield\n",
    "# values in the sixth column (index = 5).\n",
    "#\n",
    "# Note how we use the python method .index in order to properly\n",
    "# align the data values in the numpy arrays with the list values\n",
    "# in years and state_county_pairs.\n",
    "\n",
    "for line in fin:\n",
    "    fields = line.split(',') #Separate line into individual items\n",
    "    yr = fields[0].replace('\"', '') #Delete extra double quotes\n",
    "    s = fields[1].replace('\"', '') #Delete extra double quotes\n",
    "    c = fields[3].replace('\"', '') #Delete extra double quotes\n",
    "    s_c = s + '-' + c\n",
    "    rindex = state_county_pairs.index(s_c)\n",
    "    cindex = years.index(yr)\n",
    "    isdata[rindex, cindex] = 1 #Insert \"1\" into isdata in proper place\n",
    "    yd = fields[5]\n",
    "    yd = yd.replace('\\n', '') #Delete newline character at the end\n",
    "    yd = yd.replace('\"', '') #Delete extra double quotes\n",
    "    ydata[rindex, cindex] = float(yd) #Insert a numeric yield value in the proper place\n",
    "                      \n",
    "fin.close()"
   ]
  },
  {
   "cell_type": "code",
   "execution_count": null,
   "metadata": {},
   "outputs": [],
   "source": [
    "# Here I am manually setting the state_county pairs of interest \n",
    "# according to the figure above\n",
    "\n",
    "JVK_sc_pairs = ['COLORADO-WASHINGTON',\n",
    " 'COLORADO-SEDGWICK',\n",
    " 'COLORADO-PHILLIPS',\n",
    " 'COLORADO-YUMA',\n",
    " 'NEBRASKA-DUNDY',\n",
    " 'NEBRASKA-HITCHCOCK',\n",
    " 'NEBRASKA-RED WILLOW',\n",
    " 'NEBRASKA-FURNAS',\n",
    " 'NEBRASKA-HARLAN',\n",
    " 'NEBRASKA-FRANKLIN',\n",
    " 'NEBRASKA-WEBSTER',\n",
    " 'NEBRASKA-NUCKOLLS',\n",
    " 'NEBRASKA-THAYER',\n",
    " 'NEBRASKA-JEFFERSON',\n",
    " 'NEBRASKA-GAGE',\n",
    " 'NEBRASKA-PAWNEE',\n",
    " 'KANSAS-CHEYENNE',\n",
    " 'KANSAS-RAWLINS',\n",
    " 'KANSAS-DECATUR',\n",
    " 'KANSAS-NORTON',\n",
    " 'KANSAS-PHILLIPS',\n",
    " 'KANSAS-SMITH',\n",
    " 'KANSAS-JEWELL',\n",
    " 'KANSAS-REPUBLIC',\n",
    " 'KANSAS-WASHINGTON',\n",
    " 'KANSAS-MARSHALL',\n",
    " 'KANSAS-NEMAHA',\n",
    " 'KANSAS-BROWN']\n",
    "\n",
    "# Getting the data for the restricted state_county pairs set ...\n",
    "# In the code block below we want to create a list containing \n",
    "# the indices from the entire collection of state_county_pairs \n",
    "# which correspond to the above restricted set of state_county_pairs\n",
    "\n",
    "rindex = []\n",
    "for sc in state_county_pairs:\n",
    "    if sc in JVK_sc_pairs:\n",
    "        rindex.append(state_county_pairs.index(sc))\n",
    "\n",
    "# For this restricted set of state_county pairs, find which \n",
    "# years have data ...\n",
    "all = np.ones(len(years))\n",
    "\n",
    "for i in rindex:\n",
    "    all = all*isdata[i,:]\n",
    "\n",
    "# Find the corresponding years\n",
    "yrs = []\n",
    "i = 0\n",
    "for y in years:\n",
    "    if all[i] > 0:\n",
    "        yrs.append(y)\n",
    "    i = i + 1\n",
    "\n",
    "# Now we could plot a time series of county averages for \n",
    "# this set of state-county pairs and this set of years \n",
    "# just to see the trends. Note that there are still two missing \n",
    "# years (1972 and 2002) but we will ignore that ...\n",
    "\n",
    "# This creates the column index set corresponding to the years \n",
    "# for which data is available\n",
    "cindex = []\n",
    "for y in years:\n",
    "    if y in yrs:\n",
    "        cindex.append(years.index(y))\n",
    "\n",
    "# Select a smaller array with continguous data ...\n",
    "# Out of the large array of size 972 x 79 containing \n",
    "# county average yield data over various years we want \n",
    "# to extract the smaller 28 x 36 array containing county \n",
    "# average yield data for our selected state, county pairs \n",
    "# of interest and our selected years of interest.\n",
    "\n",
    "# We have to do this in two steps. First we select the 28 rows \n",
    "# corresponding to the counties of interest\n",
    "select_ydata_temp = ydata[rindex,:]\n",
    "\n",
    "# Then from that we select the 36 years desired\n",
    "select_ydata = select_ydata_temp[:,cindex]\n",
    "\n",
    "# Plot the individual county average yields on the same axis.\n",
    "\n",
    "fig = plt.figure()\n",
    "plt.style.use('classic')\n",
    "\n",
    "for k in range(select_ydata.shape[0]):\n",
    "    plt.plot(select_ydata[k,:])\n",
    "    \n",
    "plt.title(\"County Average Yields vs. Year\")\n",
    "plt.xlabel(\"Year since 1970\")\n",
    "plt.ylabel(\"Yield (bu/acre)\")\n",
    "plt.grid()\n",
    "\n",
    "# As applied here when we compute the mean and standard \n",
    "# deviation it does so over the state_county_pairs in the \n",
    "# array `select_ydata` and returns a mean and standard \n",
    "# deviation which are functions of year.\n",
    "\n",
    "select_ydata_mean = np.mean(select_ydata,axis=0)\n",
    "select_ydata_std = np.std(select_ydata,axis=0)\n",
    "\n",
    "# Show the mean and std on the same axis\n",
    "upper = select_ydata_mean + select_ydata_std\n",
    "lower = select_ydata_mean - select_ydata_std\n",
    "plt.plot(select_ydata_mean,'b*')\n",
    "plt.plot(select_ydata_std,'r+')\n",
    "plt.plot(upper,'b_')\n",
    "plt.plot(lower,'b_')\n",
    "\n",
    "\n",
    "plt.title(\"Mean (*) and Std (+) Yields vs. Year\")\n",
    "plt.xlabel(\"Year since 1970\")\n",
    "plt.ylabel(\"Yield (bu/acre)\")\n",
    "plt.style.use('classic')\n",
    "\n",
    "plt.grid()\n",
    "\n",
    "\n",
    "# First lets fit a line to the mean over the state-county pairs of \n",
    "# interest and see how that varies over time. The items below \n",
    "# correspond directly to the entries in the LS notes above.\n",
    "\n",
    "y = select_ydata_mean\n",
    "N = len(y)\n",
    "x = range(N) # Remember we are using years starting from 0 in 1970\n",
    "xy = np.multiply(x,y)\n",
    "xx = np.multiply(x,x)\n",
    "xsum = sum(x)\n",
    "ysum = sum(y)\n",
    "xxsum = sum(xx)\n",
    "xysum = sum(xy)\n",
    "\n",
    "A = np.zeros((2,2))\n",
    "A[0,0] = N\n",
    "A[0,1] = xsum\n",
    "A[1,0] = xsum\n",
    "A[1,1] = xxsum\n",
    "\n",
    "b = np.zeros(2)\n",
    "b[0] = ysum\n",
    "b[1] = xysum\n",
    "\n",
    "z = np.linalg.solve(A, b)\n",
    "print(z)\n",
    "\n",
    "# Now plot the best fit line on top of the data\n",
    "fig = plt.figure()\n",
    "plt.style.use('classic')\n",
    "plt.plot(x,y,'*')\n",
    "plt.title(\"Mean of Yields vs. Year\")\n",
    "plt.xlabel(\"Year since 1970\")\n",
    "plt.ylabel(\"Yield (bu/acre)\")\n",
    "plt.grid()\n",
    "yy = z[0] + z[1]*x\n",
    "plt.plot(x,yy)\n",
    "\n",
    "# Summary: See that the mean of the yields has increased \n",
    "# from about 35 bu/acre in 1970 to a little over 40 bu/acre \n",
    "# in 2005. The rate of increase is the slope parameter, which \n",
    "# here is found to be about 0.15 bu/acre per year.\n",
    "\n",
    "# With a for loop ...\n",
    "fig = plt.figure()\n",
    "plt.style.use('classic')\n",
    "plt.title(\"Mean of Yields vs. Year\")\n",
    "plt.xlabel(\"Year since 1970\")\n",
    "plt.ylabel(\"Yield (bu/acre)\")\n",
    "plt.grid()\n",
    "\n",
    "for k in range(28):\n",
    "    y = select_ydata[k,:]\n",
    "    N = len(y)\n",
    "    x = range(N) # Remember we are years starting from 0\n",
    "    xy = np.multiply(x,y)\n",
    "    xx = np.multiply(x,x)\n",
    "    xsum = sum(x)\n",
    "    ysum = sum(y)\n",
    "    xxsum = sum(xx)\n",
    "    xysum = sum(xy)\n",
    "\n",
    "    A = np.zeros((2,2))\n",
    "    A[0,0] = N\n",
    "    A[0,1] = xsum\n",
    "    A[1,0] = xsum\n",
    "    A[1,1] = xxsum\n",
    "\n",
    "    b = np.zeros(2)\n",
    "    b[0] = ysum\n",
    "    b[1] = xysum\n",
    "\n",
    "    z = np.linalg.solve(A, b)\n",
    "\n",
    "    # Now plot the best fit line on top of the data\n",
    "    plt.plot(x,y,'.')\n",
    "    yy = z[0] + z[1]*x\n",
    "    plt.plot(x,yy)\n"
   ]
  },
  {
   "cell_type": "code",
   "execution_count": null,
   "metadata": {},
   "outputs": [],
   "source": []
  },
  {
   "cell_type": "code",
   "execution_count": null,
   "metadata": {},
   "outputs": [],
   "source": []
  },
  {
   "cell_type": "code",
   "execution_count": null,
   "metadata": {},
   "outputs": [],
   "source": [
    "print(select_ydata_mean)"
   ]
  },
  {
   "cell_type": "code",
   "execution_count": null,
   "metadata": {},
   "outputs": [],
   "source": [
    "x = select_ydata[0,::2]\n",
    "y = select_ydata[0,1::2]"
   ]
  },
  {
   "cell_type": "code",
   "execution_count": null,
   "metadata": {},
   "outputs": [],
   "source": [
    "for i in range(select_ydata.shape[0]):\n",
    "    x = select_ydata[i,::2]\n",
    "    y = select_ydata[i,1::2]\n",
    "    plt.plot(x,y,'.')\n",
    "    \n",
    "plt.title(\"Yield in Even Years vs. Yield in Odd Years\")\n",
    "plt.xlabel(\"Yield (bu/acre)\")\n",
    "plt.ylabel(\"Yield (bu/acre)\")\n",
    "plt.style.use('seaborn-whitegrid')\n"
   ]
  },
  {
   "cell_type": "code",
   "execution_count": null,
   "metadata": {},
   "outputs": [],
   "source": [
    "x = select_ydata[0,::2]\n",
    "y = select_ydata[0,1::2]\n",
    "plt.plot(x,y,'.')\n",
    "    \n",
    "plt.title(\"Yield in Even Years vs. Yield in Odd Years\")\n",
    "plt.xlabel(\"Yield (bu/acre)\")\n",
    "plt.ylabel(\"Yield (bu/acre)\")\n",
    "plt.style.use('seaborn-whitegrid')\n",
    "\n"
   ]
  },
  {
   "cell_type": "code",
   "execution_count": null,
   "metadata": {},
   "outputs": [],
   "source": [
    "m = int(select_ydata.shape[1]/2)\n",
    "n = int(select_ydata.shape[0])\n",
    "z = np.zeros((2,n*m))\n",
    "\n",
    "for i in range(n):\n",
    "    ztmp = z[:,i*m:(i+1)*m]\n",
    "    ztmp[0,:] = select_ydata[i,::2]\n",
    "    ztmp[1,:] = select_ydata[i,1::2]\n",
    "    \n",
    "mu = np.mean(z, axis=1)\n",
    "munew = mu[:, np.newaxis]\n",
    "ztilde = z - munew\n",
    "\n",
    "Cov = np.matmul(ztilde,ztilde.transpose()) / (n*m)\n",
    "    "
   ]
  },
  {
   "cell_type": "code",
   "execution_count": null,
   "metadata": {},
   "outputs": [],
   "source": [
    "Cov"
   ]
  },
  {
   "cell_type": "code",
   "execution_count": null,
   "metadata": {},
   "outputs": [],
   "source": [
    "ztilde.shape"
   ]
  },
  {
   "cell_type": "code",
   "execution_count": null,
   "metadata": {},
   "outputs": [],
   "source": [
    "ztilde.transpose()"
   ]
  },
  {
   "cell_type": "code",
   "execution_count": null,
   "metadata": {},
   "outputs": [],
   "source": []
  },
  {
   "cell_type": "code",
   "execution_count": null,
   "metadata": {},
   "outputs": [],
   "source": []
  },
  {
   "cell_type": "code",
   "execution_count": null,
   "metadata": {},
   "outputs": [],
   "source": []
  },
  {
   "cell_type": "markdown",
   "metadata": {},
   "source": [
    "Can we compare or correlate the wheat yield productivity to cash rents by county?\n",
    "For cash rent data: <a href=\"https://quickstats.nass.usda.gov\" target=\"_blank\">Quick Stats</a> and select the following radio buttons:\n",
    "survey -> economicis -> expenses -> rent -> rent,cash,cropland,non-irrigated - expense, measured in $ / acre -> county -> 2008\n",
    "\n",
    "Then click on the get data button and a table appears. This table can be downloaded to a .csv file with a long random-looking string as a name."
   ]
  },
  {
   "cell_type": "code",
   "execution_count": null,
   "metadata": {},
   "outputs": [],
   "source": []
  },
  {
   "cell_type": "code",
   "execution_count": null,
   "metadata": {},
   "outputs": [],
   "source": [
    "# Change the current working directory\n",
    "os.chdir('Data')\n",
    "\n",
    "# Print the current working directory\n",
    "print(\"Current working directory: {0}\".format(os.getcwd()))"
   ]
  },
  {
   "cell_type": "code",
   "execution_count": null,
   "metadata": {},
   "outputs": [],
   "source": []
  },
  {
   "cell_type": "code",
   "execution_count": null,
   "metadata": {},
   "outputs": [],
   "source": [
    "# Enter the file name for the .csv which you have downloaded.\n",
    "\n",
    "my_file_name = input('Enter a filename that you want to open: ')"
   ]
  },
  {
   "cell_type": "code",
   "execution_count": null,
   "metadata": {},
   "outputs": [],
   "source": []
  },
  {
   "cell_type": "code",
   "execution_count": null,
   "metadata": {},
   "outputs": [],
   "source": [
    "my_file_name"
   ]
  },
  {
   "cell_type": "code",
   "execution_count": null,
   "metadata": {},
   "outputs": [],
   "source": [
    "# Open the file for reading only and print the first few lines. As written\n",
    "# the first 6 lines will be printed.\n",
    "\n",
    "fin = open(my_file_name, \"r\")\n",
    "\n",
    "for i in range(6):\n",
    "    line = fin.readline()\n",
    "    print(line, end='')\n",
    "\n",
    "fin.close()\n"
   ]
  },
  {
   "cell_type": "markdown",
   "metadata": {},
   "source": [
    "Clearly if we were wanting to use the .split method from before there are a number of superfluous commas to worry about. The commas to split on, however, are always surrounded by double quotes. Perhaps this can help."
   ]
  },
  {
   "cell_type": "code",
   "execution_count": null,
   "metadata": {},
   "outputs": [],
   "source": [
    "# Lets examine the header line first\n",
    "\n",
    "fin = open(my_file_name, \"r\")\n",
    "\n",
    "line = fin.readline()\n",
    "fields = line.split(',')\n",
    "\n",
    "fin.close()\n"
   ]
  },
  {
   "cell_type": "code",
   "execution_count": null,
   "metadata": {},
   "outputs": [],
   "source": [
    "fields"
   ]
  },
  {
   "cell_type": "markdown",
   "metadata": {},
   "source": [
    "What is wanted is: 'State',\n",
    " 'State ANSI','County',\n",
    " 'County ANSI','Value', ... the field indices are 5, 6, 9, 10, 19"
   ]
  },
  {
   "cell_type": "code",
   "execution_count": null,
   "metadata": {},
   "outputs": [],
   "source": [
    "line = fields[5] + ',' + fields[6] + ',' + fields[9] + ',' + fields[10] + ',' + fields[19]"
   ]
  },
  {
   "cell_type": "code",
   "execution_count": null,
   "metadata": {},
   "outputs": [],
   "source": [
    "line"
   ]
  },
  {
   "cell_type": "code",
   "execution_count": null,
   "metadata": {},
   "outputs": [],
   "source": [
    "# Lets examine the second line\n",
    "\n",
    "fin = open(my_file_name, \"r\")\n",
    "\n",
    "line = fin.readline()\n",
    "line = fin.readline()\n",
    "fields = line.split('\",\"')\n",
    "\n",
    "fin.close()\n"
   ]
  },
  {
   "cell_type": "code",
   "execution_count": null,
   "metadata": {},
   "outputs": [],
   "source": [
    "fields"
   ]
  },
  {
   "cell_type": "markdown",
   "metadata": {},
   "source": [
    "Coresponding to the header line we want the fields indexed by 5, 6, 9, 10, 19"
   ]
  },
  {
   "cell_type": "code",
   "execution_count": null,
   "metadata": {},
   "outputs": [],
   "source": [
    "my_new_file_name = 'Wrangled' + my_file_name\n",
    "my_new_file_name"
   ]
  },
  {
   "cell_type": "code",
   "execution_count": null,
   "metadata": {},
   "outputs": [],
   "source": []
  },
  {
   "cell_type": "code",
   "execution_count": null,
   "metadata": {},
   "outputs": [],
   "source": []
  },
  {
   "cell_type": "code",
   "execution_count": null,
   "metadata": {},
   "outputs": [],
   "source": []
  },
  {
   "cell_type": "code",
   "execution_count": null,
   "metadata": {},
   "outputs": [],
   "source": []
  },
  {
   "cell_type": "code",
   "execution_count": null,
   "metadata": {},
   "outputs": [],
   "source": []
  },
  {
   "cell_type": "code",
   "execution_count": null,
   "metadata": {},
   "outputs": [],
   "source": []
  },
  {
   "cell_type": "code",
   "execution_count": null,
   "metadata": {},
   "outputs": [],
   "source": []
  },
  {
   "cell_type": "code",
   "execution_count": null,
   "metadata": {},
   "outputs": [],
   "source": []
  },
  {
   "cell_type": "code",
   "execution_count": null,
   "metadata": {},
   "outputs": [],
   "source": []
  },
  {
   "cell_type": "code",
   "execution_count": null,
   "metadata": {},
   "outputs": [],
   "source": [
    "fields"
   ]
  },
  {
   "cell_type": "code",
   "execution_count": null,
   "metadata": {},
   "outputs": [],
   "source": [
    "import requests"
   ]
  },
  {
   "cell_type": "code",
   "execution_count": null,
   "metadata": {},
   "outputs": [],
   "source": []
  },
  {
   "cell_type": "code",
   "execution_count": null,
   "metadata": {},
   "outputs": [],
   "source": []
  },
  {
   "cell_type": "code",
   "execution_count": null,
   "metadata": {},
   "outputs": [],
   "source": []
  },
  {
   "cell_type": "code",
   "execution_count": null,
   "metadata": {},
   "outputs": [],
   "source": []
  },
  {
   "cell_type": "markdown",
   "metadata": {},
   "source": [
    "# Mapping\n",
    "\n",
    "Note that the data set also contains some numeric representations for the state and the counties. If we wanted to create a map or a spatial plot of the county average data, these may be useful.\n",
    "\n",
    "In the USDA data there are columns titled \"State ANSI\" and \"County ANSI\". With a little searching we find they are related to a concept called FIPS codes, which stands for Federal Information Processing Standards, promulgated by the National Institute of Standards and Technology (NIST).\n",
    "\n",
    "County level FIPS codes are 5 digits, the first two identify the state, and the last three identify the county. The mapping from State ANSI and County ANSI to FIPS is trivial. State ANSI is one or two digits and County ANSI is one to three digits and they map directly to the FIPS values.\n",
    "\n",
    "Our first step in mapping is to transform the ANSI numbers to county level FIPS."
   ]
  },
  {
   "cell_type": "code",
   "execution_count": null,
   "metadata": {},
   "outputs": [],
   "source": []
  },
  {
   "cell_type": "code",
   "execution_count": null,
   "metadata": {},
   "outputs": [],
   "source": [
    "# Open the wrangled file.\n",
    "\n",
    "fin = open(my_new_file_name, \"r\")\n",
    "line = fin.readline() #Read the first line to move past the header   \n",
    "\n",
    "y = np.array([]) #Initialize an empty numpy array\n",
    "fips = np.array([]) #ditto\n",
    "\n",
    "# State ANSI is in field position 1 and the county ANSI is in field\n",
    "# position 3\n",
    "for line in fin:\n",
    "    fields = line.split(',')\n",
    "    s1 = fields[1]\n",
    "    s2 = fields[3]\n",
    "    if len(s1) == 1:\n",
    "        s1 = '0' + s1  \n",
    "    if len(s2) == 1:\n",
    "        s2 = '00' + s2\n",
    "    elif len(s2) == 2:\n",
    "        s2 = '0' + s2 \n",
    "    s = s1 + s2\n",
    "    fips = np.append(fips, int(s))\n",
    "    s3 = fields[4]\n",
    "    s3 = s3.replace('\\n', '') #Deletes the end character\n",
    "    y = np.append(y, float(s3))\n",
    "                      \n",
    "fin.close()\n",
    "\n"
   ]
  },
  {
   "cell_type": "code",
   "execution_count": null,
   "metadata": {},
   "outputs": [],
   "source": [
    "y"
   ]
  },
  {
   "cell_type": "code",
   "execution_count": null,
   "metadata": {},
   "outputs": [],
   "source": [
    "fips"
   ]
  },
  {
   "cell_type": "markdown",
   "metadata": {},
   "source": [
    "For mapping the place to go is https://public.opendatasoft.com/explore/embed/dataset/us-county-boundaries/table/ ....\n",
    "There I can create the spreadsheet I desire state-by-state which is a bit too tedious. There is also an API, which I do not currently know how to use."
   ]
  },
  {
   "cell_type": "markdown",
   "metadata": {},
   "source": [
    "Another thing to do would be to go back to NASS and use the API I learned in the previous class. Here possibly get data for\n",
    "\n",
    "Colorado over the years to compare Colorado counties, including information about cash rents or land values ... or do the whole nation on cash rents for 2007"
   ]
  },
  {
   "cell_type": "markdown",
   "metadata": {},
   "source": [
    "One useful skill would be to explain how to understand these APIs for example the opensoft one is very confusing. Seems one needs to understand something of databases."
   ]
  },
  {
   "cell_type": "markdown",
   "metadata": {},
   "source": [
    "## Simple Mapping?"
   ]
  },
  {
   "cell_type": "code",
   "execution_count": null,
   "metadata": {},
   "outputs": [],
   "source": []
  },
  {
   "cell_type": "code",
   "execution_count": null,
   "metadata": {},
   "outputs": [],
   "source": []
  },
  {
   "cell_type": "code",
   "execution_count": null,
   "metadata": {},
   "outputs": [],
   "source": []
  },
  {
   "cell_type": "code",
   "execution_count": null,
   "metadata": {},
   "outputs": [],
   "source": []
  },
  {
   "cell_type": "code",
   "execution_count": null,
   "metadata": {},
   "outputs": [],
   "source": [
    "my_file_name = 'cities-and-towns-of-the-united-states.csv'\n",
    "\n",
    "# Open the wrangled file.\n",
    "\n",
    "fin = open(my_file_name, \"r\")\n",
    "line = fin.readline() #Read first line\n",
    "\n",
    "print(line)\n",
    "fields = line.split(';')\n",
    "print(len(fields))\n",
    "print(fields)\n",
    "print()\n",
    "\n",
    "for i in range(20):\n",
    "    line = fin.readline()\n",
    "    fields = line.split(';')\n",
    "    print(len(fields))\n",
    "    print(fields)\n",
    "    print()\n",
    "\n",
    "fin.close()\n",
    "\n",
    "\n"
   ]
  },
  {
   "cell_type": "code",
   "execution_count": null,
   "metadata": {},
   "outputs": [],
   "source": [
    "# Initialize some empty sets.\n",
    "years = set()\n",
    "state_county_pairs = set()\n",
    "\n",
    "# The year values are located in the first column (index = 0)\n",
    "# The state values are in the second column (index = 1)\n",
    "# The county values are in the fourth column (index = 3)\n",
    "for line in fin:\n",
    "    fields = line.split(',')\n",
    "    yr = fields[0].replace('\"', '')\n",
    "    years.add(yr)\n",
    "    s = fields[1].replace('\"', '')\n",
    "    c = fields[3].replace('\"', '')\n",
    "    state_county_pairs.add(s + '-' + c)\n",
    "                      \n",
    "fin.close()\n",
    "\n",
    "# Convert to lists\n",
    "years = list(years)\n",
    "state_county_pairs = list(state_county_pairs)\n",
    "\n",
    "# The variable \"isdata\" is initialized with zeros. When a one appears\n",
    "# at a particular row and column it indicates that the corresponding\n",
    "# state-county pair and year has yield data.\n",
    "isdata = np.zeros((len(state_county_pairs), len(years)))\n",
    "\n",
    "# The variable \"ydata\" is also initialized with zeros.\n",
    "ydata = np.zeros((len(state_county_pairs), len(years)))\n",
    "\n",
    "# Sort the years and state_county_pairs lists. This is done so that we\n",
    "# can refer to the data in the numpy array and have the order there\n",
    "# correspond to the state-county pair and year of interest.\n",
    "years.sort()\n",
    "state_county_pairs.sort()"
   ]
  }
 ],
 "metadata": {
  "kernelspec": {
   "display_name": "Python 3",
   "language": "python",
   "name": "python3"
  },
  "language_info": {
   "codemirror_mode": {
    "name": "ipython",
    "version": 3
   },
   "file_extension": ".py",
   "mimetype": "text/x-python",
   "name": "python",
   "nbconvert_exporter": "python",
   "pygments_lexer": "ipython3",
   "version": "3.7.4"
  }
 },
 "nbformat": 4,
 "nbformat_minor": 2
}
